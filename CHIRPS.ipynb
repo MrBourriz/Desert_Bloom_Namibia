{
  "cells": [
    {
      "cell_type": "markdown",
      "metadata": {},
      "source": [
        "# Access and Download the CHIPRS Data"
      ]
    },
    {
      "cell_type": "code",
      "execution_count": null,
      "metadata": {
        "colab": {
          "base_uri": "https://localhost:8080/"
        },
        "id": "Z8E9LUZtdXzM",
        "outputId": "3f73a166-171e-45b2-e666-3570c6558b23"
      },
      "outputs": [
        {
          "name": "stdout",
          "output_type": "stream",
          "text": [
            "\u001b[2K   \u001b[90m━━━━━━━━━━━━━━━━━━━━━━━━━━━━━━━━━━━━━━━━\u001b[0m \u001b[32m84.3/84.3 kB\u001b[0m \u001b[31m797.3 kB/s\u001b[0m eta \u001b[36m0:00:00\u001b[0m\n",
            "\u001b[2K   \u001b[90m━━━━━━━━━━━━━━━━━━━━━━━━━━━━━━━━━━━━━━━━\u001b[0m \u001b[32m13.9/13.9 MB\u001b[0m \u001b[31m29.0 MB/s\u001b[0m eta \u001b[36m0:00:00\u001b[0m\n",
            "\u001b[2K   \u001b[90m━━━━━━━━━━━━━━━━━━━━━━━━━━━━━━━━━━━━━━━━\u001b[0m \u001b[32m62.2/62.2 kB\u001b[0m \u001b[31m467.7 kB/s\u001b[0m eta \u001b[36m0:00:00\u001b[0m\n",
            "\u001b[2K   \u001b[90m━━━━━━━━━━━━━━━━━━━━━━━━━━━━━━━━━━━━━━━━\u001b[0m \u001b[32m22.2/22.2 MB\u001b[0m \u001b[31m35.3 MB/s\u001b[0m eta \u001b[36m0:00:00\u001b[0m\n",
            "\u001b[?25hCollecting zarr\n",
            "  Downloading zarr-3.1.0-py3-none-any.whl.metadata (10 kB)\n",
            "Collecting donfig>=0.8 (from zarr)\n",
            "  Downloading donfig-0.8.1.post1-py3-none-any.whl.metadata (5.0 kB)\n",
            "Collecting numcodecs>=0.14 (from numcodecs[crc32c]>=0.14->zarr)\n",
            "  Downloading numcodecs-0.16.1-cp311-cp311-manylinux_2_17_x86_64.manylinux2014_x86_64.whl.metadata (3.3 kB)\n",
            "Requirement already satisfied: numpy>=1.26 in /usr/local/lib/python3.11/dist-packages (from zarr) (2.0.2)\n",
            "Requirement already satisfied: packaging>=22.0 in /usr/local/lib/python3.11/dist-packages (from zarr) (25.0)\n",
            "Requirement already satisfied: typing-extensions>=4.9 in /usr/local/lib/python3.11/dist-packages (from zarr) (4.14.1)\n",
            "Requirement already satisfied: pyyaml in /usr/local/lib/python3.11/dist-packages (from donfig>=0.8->zarr) (6.0.2)\n",
            "Collecting crc32c>=2.7 (from numcodecs[crc32c]>=0.14->zarr)\n",
            "  Downloading crc32c-2.7.1-cp311-cp311-manylinux_2_5_x86_64.manylinux1_x86_64.manylinux_2_17_x86_64.manylinux2014_x86_64.whl.metadata (7.3 kB)\n",
            "Downloading zarr-3.1.0-py3-none-any.whl (254 kB)\n",
            "\u001b[2K   \u001b[90m━━━━━━━━━━━━━━━━━━━━━━━━━━━━━━━━━━━━━━━━\u001b[0m \u001b[32m254.1/254.1 kB\u001b[0m \u001b[31m1.2 MB/s\u001b[0m eta \u001b[36m0:00:00\u001b[0m\n",
            "\u001b[?25hDownloading donfig-0.8.1.post1-py3-none-any.whl (21 kB)\n",
            "Downloading numcodecs-0.16.1-cp311-cp311-manylinux_2_17_x86_64.manylinux2014_x86_64.whl (8.8 MB)\n",
            "\u001b[2K   \u001b[90m━━━━━━━━━━━━━━━━━━━━━━━━━━━━━━━━━━━━━━━━\u001b[0m \u001b[32m8.8/8.8 MB\u001b[0m \u001b[31m19.4 MB/s\u001b[0m eta \u001b[36m0:00:00\u001b[0m\n",
            "\u001b[?25hDownloading crc32c-2.7.1-cp311-cp311-manylinux_2_5_x86_64.manylinux1_x86_64.manylinux_2_17_x86_64.manylinux2014_x86_64.whl (53 kB)\n",
            "\u001b[2K   \u001b[90m━━━━━━━━━━━━━━━━━━━━━━━━━━━━━━━━━━━━━━━━\u001b[0m \u001b[32m53.7/53.7 kB\u001b[0m \u001b[31m4.0 MB/s\u001b[0m eta \u001b[36m0:00:00\u001b[0m\n",
            "\u001b[?25hInstalling collected packages: numcodecs, donfig, crc32c, zarr\n",
            "Successfully installed crc32c-2.7.1 donfig-0.8.1.post1 numcodecs-0.16.1 zarr-3.1.0\n",
            "Collecting cartopy\n",
            "  Downloading Cartopy-0.24.1-cp311-cp311-manylinux_2_17_x86_64.manylinux2014_x86_64.whl.metadata (7.9 kB)\n",
            "Requirement already satisfied: numpy>=1.23 in /usr/local/lib/python3.11/dist-packages (from cartopy) (2.0.2)\n",
            "Requirement already satisfied: matplotlib>=3.6 in /usr/local/lib/python3.11/dist-packages (from cartopy) (3.10.0)\n",
            "Requirement already satisfied: shapely>=1.8 in /usr/local/lib/python3.11/dist-packages (from cartopy) (2.1.1)\n",
            "Requirement already satisfied: packaging>=21 in /usr/local/lib/python3.11/dist-packages (from cartopy) (25.0)\n",
            "Requirement already satisfied: pyshp>=2.3 in /usr/local/lib/python3.11/dist-packages (from cartopy) (2.3.1)\n",
            "Requirement already satisfied: pyproj>=3.3.1 in /usr/local/lib/python3.11/dist-packages (from cartopy) (3.7.1)\n",
            "Requirement already satisfied: contourpy>=1.0.1 in /usr/local/lib/python3.11/dist-packages (from matplotlib>=3.6->cartopy) (1.3.2)\n",
            "Requirement already satisfied: cycler>=0.10 in /usr/local/lib/python3.11/dist-packages (from matplotlib>=3.6->cartopy) (0.12.1)\n",
            "Requirement already satisfied: fonttools>=4.22.0 in /usr/local/lib/python3.11/dist-packages (from matplotlib>=3.6->cartopy) (4.59.0)\n",
            "Requirement already satisfied: kiwisolver>=1.3.1 in /usr/local/lib/python3.11/dist-packages (from matplotlib>=3.6->cartopy) (1.4.8)\n",
            "Requirement already satisfied: pillow>=8 in /usr/local/lib/python3.11/dist-packages (from matplotlib>=3.6->cartopy) (11.3.0)\n",
            "Requirement already satisfied: pyparsing>=2.3.1 in /usr/local/lib/python3.11/dist-packages (from matplotlib>=3.6->cartopy) (3.2.3)\n",
            "Requirement already satisfied: python-dateutil>=2.7 in /usr/local/lib/python3.11/dist-packages (from matplotlib>=3.6->cartopy) (2.9.0.post0)\n",
            "Requirement already satisfied: certifi in /usr/local/lib/python3.11/dist-packages (from pyproj>=3.3.1->cartopy) (2025.7.14)\n",
            "Requirement already satisfied: six>=1.5 in /usr/local/lib/python3.11/dist-packages (from python-dateutil>=2.7->matplotlib>=3.6->cartopy) (1.17.0)\n",
            "Downloading Cartopy-0.24.1-cp311-cp311-manylinux_2_17_x86_64.manylinux2014_x86_64.whl (11.7 MB)\n",
            "\u001b[2K   \u001b[90m━━━━━━━━━━━━━━━━━━━━━━━━━━━━━━━━━━━━━━━━\u001b[0m \u001b[32m11.7/11.7 MB\u001b[0m \u001b[31m32.8 MB/s\u001b[0m eta \u001b[36m0:00:00\u001b[0m\n",
            "\u001b[?25hInstalling collected packages: cartopy\n",
            "Successfully installed cartopy-0.24.1\n",
            "Requirement already satisfied: xarray in /usr/local/lib/python3.11/dist-packages (2025.7.1)\n",
            "Requirement already satisfied: numpy>=1.26 in /usr/local/lib/python3.11/dist-packages (from xarray) (2.0.2)\n",
            "Requirement already satisfied: packaging>=24.1 in /usr/local/lib/python3.11/dist-packages (from xarray) (25.0)\n",
            "Requirement already satisfied: pandas>=2.2 in /usr/local/lib/python3.11/dist-packages (from xarray) (2.2.2)\n",
            "Requirement already satisfied: python-dateutil>=2.8.2 in /usr/local/lib/python3.11/dist-packages (from pandas>=2.2->xarray) (2.9.0.post0)\n",
            "Requirement already satisfied: pytz>=2020.1 in /usr/local/lib/python3.11/dist-packages (from pandas>=2.2->xarray) (2025.2)\n",
            "Requirement already satisfied: tzdata>=2022.7 in /usr/local/lib/python3.11/dist-packages (from pandas>=2.2->xarray) (2025.2)\n",
            "Requirement already satisfied: six>=1.5 in /usr/local/lib/python3.11/dist-packages (from python-dateutil>=2.8.2->pandas>=2.2->xarray) (1.17.0)\n"
          ]
        }
      ],
      "source": [
        "! pip install s3fs --quiet\n",
        "! pip install rioxarray --quiet\n",
        "! pip install zarr\n",
        "! pip install cartopy\n",
        "! pip install xarray\n"
      ]
    },
    {
      "cell_type": "code",
      "execution_count": 3,
      "metadata": {
        "id": "4sfpOUOrFhX-"
      },
      "outputs": [],
      "source": [
        "import s3fs\n",
        "import xarray as xr\n",
        "import rioxarray\n",
        "import geopandas as gpd\n",
        "from shapely.geometry import mapping\n",
        "import os\n",
        "from tqdm import tqdm\n",
        "import warnings\n",
        "import pandas as pd\n",
        "import matplotlib.pyplot as plt\n",
        "import shutil\n",
        "import cartopy.crs as ccrs\n",
        "import matplotlib.pyplot as plt\n",
        "import imageio\n",
        "import os\n",
        "from tqdm import tqdm\n",
        "import numpy as np\n",
        "warnings.filterwarnings(\"ignore\")"
      ]
    },
    {
      "cell_type": "markdown",
      "metadata": {},
      "source": [
        "## Getting the Access from AWS Africa thanks to DEA "
      ]
    },
    {
      "cell_type": "code",
      "execution_count": 4,
      "metadata": {
        "id": "9nd9juTKOLS3"
      },
      "outputs": [],
      "source": [
        "os.environ[\"AWS_NO_SIGN_REQUEST\"] = \"YES\"\n",
        "os.environ[\"AWS_REQUEST_PAYER\"] = \"requester\"  # sometimes needed\n",
        "\n",
        "# Tell GDAL/rasterio which region the bucket is in\n",
        "os.environ[\"AWS_REGION\"] = \"af-south-1\"\n",
        "os.environ[\"AWS_DEFAULT_REGION\"] = \"af-south-1\"\n",
        "\n",
        "# Optional: avoid using virtual-hosted-style URLs (safeguard)\n",
        "os.environ[\"AWS_S3_ADDRESSING_STYLE\"] = \"path\""
      ]
    },
    {
      "cell_type": "code",
      "execution_count": 5,
      "metadata": {
        "id": "-w5uf2I3FqPV"
      },
      "outputs": [],
      "source": [
        "fs = s3fs.S3FileSystem(anon=True, client_kwargs={\"region_name\": \"af-south-1\"})\n"
      ]
    },
    {
      "cell_type": "code",
      "execution_count": 6,
      "metadata": {
        "colab": {
          "base_uri": "https://localhost:8080/"
        },
        "id": "ajM2QPV-Funn",
        "outputId": "2ab8a24b-55ee-4df8-869f-262e94ca3d45"
      },
      "outputs": [
        {
          "name": "stdout",
          "output_type": "stream",
          "text": [
            "Available years: ['1981', '1982', '1983', '1984', '1985', '1986', '1987', '1988', '1989', '1990', '1991', '1992', '1993', '1994', '1995', '1996', '1997', '1998', '1999', '2000', '2001', '2002', '2003', '2004', '2005', '2006', '2007', '2008', '2009', '2010', '2011', '2012', '2013', '2014', '2015', '2016', '2017', '2018', '2019', '2020', '2021', '2022', '2023', '2024', '2025']\n"
          ]
        }
      ],
      "source": [
        "root = 'deafrica-input-datasets/rainfall_chirps_daily'\n",
        "years = [y.split('/')[-1] for y in fs.ls(root) if y.split('/')[-1].isdigit()]\n",
        "years = sorted(years)\n",
        "print(\"Available years:\", years)"
      ]
    },
    {
      "cell_type": "code",
      "execution_count": 7,
      "metadata": {
        "colab": {
          "base_uri": "https://localhost:8080/",
          "height": 356
        },
        "id": "G8Zd3WVwKilJ",
        "outputId": "53fa88da-3a2b-457e-c312-661e10c27cb2"
      },
      "outputs": [
        {
          "name": "stdout",
          "output_type": "stream",
          "text": [
            "Total CHIRPS daily files found: 32322\n"
          ]
        }
      ],
      "source": [
        "all_files = []\n",
        "\n",
        "for year in years:\n",
        "    for m in range(1, 13):\n",
        "        prefix = f\"{root}/{year}/{str(m).zfill(2)}\"\n",
        "        if fs.exists(prefix):\n",
        "            all_files.extend(fs.ls(prefix))\n",
        "\n",
        "print(f\"Total CHIRPS daily files found: {len(all_files)}\")"
      ]
    },
    {
      "cell_type": "code",
      "execution_count": null,
      "metadata": {
        "id": "OVBu0ysJNKBo"
      },
      "outputs": [],
      "source": [
        "all_files = [f for f in all_files if f.endswith(\".tif\")]\n",
        "print(f\"Total GeoTIFFs: {len(all_files)}\")"
      ]
    },
    {
      "cell_type": "code",
      "execution_count": null,
      "metadata": {
        "id": "H6AyqF-LLplM"
      },
      "outputs": [],
      "source": [
        "\n",
        "# Load shapefile (should be in EPSG:4326, or reproject it)\n",
        "gdf = gpd.read_file(\"/content/Namibia_South.shp\").to_crs(\"EPSG:4326\")\n",
        "aoi_geom = gdf.geometry.values[0]  # assuming one polygon\n",
        "geojson_aoi = [mapping(aoi_geom)]  # convert to GeoJSON format"
      ]
    },
    {
      "cell_type": "code",
      "execution_count": null,
      "metadata": {
        "id": "z5xY8qzbN8WH"
      },
      "outputs": [],
      "source": [
        "url = 's3://deafrica-input-datasets/rainfall_chirps_daily/2024/05/chirps-v2.0_2024.05.01.tif'\n",
        "\n",
        "da = rioxarray.open_rasterio(url, masked=True).squeeze(drop=True)\n",
        "da.name = 'precipitation'\n",
        "da.rio.write_crs(\"EPSG:4326\", inplace=True)\n",
        "da.plot()"
      ]
    },
    {
      "cell_type": "markdown",
      "metadata": {},
      "source": [
        "## This may take alot of time "
      ]
    },
    {
      "cell_type": "code",
      "execution_count": null,
      "metadata": {
        "colab": {
          "base_uri": "https://localhost:8080/"
        },
        "id": "kq9rCAm87t_r",
        "outputId": "6ebabe64-c548-443a-9ba3-bb8fafda9abd"
      },
      "outputs": [
        {
          "name": "stderr",
          "output_type": "stream",
          "text": [
            "Processing CHIRPS files: 100%|██████████| 16100/16100 [3:34:01<00:00,  1.25it/s]\n"
          ]
        }
      ],
      "source": [
        "dataarrays = []\n",
        "\n",
        "for path in tqdm(all_files, desc=\"Processing CHIRPS files\"):\n",
        "    try:\n",
        "        url = f's3://{path}'\n",
        "        filename = os.path.basename(path)\n",
        "\n",
        "        # Extract date from filename: chirps-v2.0_1981.01.01.tif → 1981-01-01\n",
        "        date_str = filename.split('_')[-1].replace('.tif', '')\n",
        "        parts = date_str.split('.')\n",
        "        if len(parts) != 3:\n",
        "            continue\n",
        "        date = '-'.join(parts)\n",
        "\n",
        "        # Open and prepare the raster\n",
        "        da = rioxarray.open_rasterio(url, masked=True).squeeze(drop=True)\n",
        "        da.name = 'precipitation'\n",
        "        da = da.expand_dims(time=[date])\n",
        "        da.rio.write_crs(\"EPSG:4326\", inplace=True)\n",
        "\n",
        "        # Clip to shapefile AOI\n",
        "        da = da.rio.clip(geojson_aoi, crs=\"EPSG:4326\")\n",
        "\n",
        "        dataarrays.append(da)\n",
        "\n",
        "    except Exception as e:\n",
        "        print(f\"❌ Skipped {path}: {e}\")"
      ]
    },
    {
      "cell_type": "markdown",
      "metadata": {},
      "source": [
        "## To Xarray Format & Checking the data"
      ]
    },
    {
      "cell_type": "code",
      "execution_count": null,
      "metadata": {
        "colab": {
          "base_uri": "https://localhost:8080/",
          "height": 1000
        },
        "id": "gmB7SKFYbvK0",
        "outputId": "00c05998-f80a-453e-f981-3a22454e8dd6"
      },
      "outputs": [
        {
          "data": {
            "text/html": [
              "<div><svg style=\"position: absolute; width: 0; height: 0; overflow: hidden\">\n",
              "<defs>\n",
              "<symbol id=\"icon-database\" viewBox=\"0 0 32 32\">\n",
              "<path d=\"M16 0c-8.837 0-16 2.239-16 5v4c0 2.761 7.163 5 16 5s16-2.239 16-5v-4c0-2.761-7.163-5-16-5z\"></path>\n",
              "<path d=\"M16 17c-8.837 0-16-2.239-16-5v6c0 2.761 7.163 5 16 5s16-2.239 16-5v-6c0 2.761-7.163 5-16 5z\"></path>\n",
              "<path d=\"M16 26c-8.837 0-16-2.239-16-5v6c0 2.761 7.163 5 16 5s16-2.239 16-5v-6c0 2.761-7.163 5-16 5z\"></path>\n",
              "</symbol>\n",
              "<symbol id=\"icon-file-text2\" viewBox=\"0 0 32 32\">\n",
              "<path d=\"M28.681 7.159c-0.694-0.947-1.662-2.053-2.724-3.116s-2.169-2.030-3.116-2.724c-1.612-1.182-2.393-1.319-2.841-1.319h-15.5c-1.378 0-2.5 1.121-2.5 2.5v27c0 1.378 1.122 2.5 2.5 2.5h23c1.378 0 2.5-1.122 2.5-2.5v-19.5c0-0.448-0.137-1.23-1.319-2.841zM24.543 5.457c0.959 0.959 1.712 1.825 2.268 2.543h-4.811v-4.811c0.718 0.556 1.584 1.309 2.543 2.268zM28 29.5c0 0.271-0.229 0.5-0.5 0.5h-23c-0.271 0-0.5-0.229-0.5-0.5v-27c0-0.271 0.229-0.5 0.5-0.5 0 0 15.499-0 15.5 0v7c0 0.552 0.448 1 1 1h7v19.5z\"></path>\n",
              "<path d=\"M23 26h-14c-0.552 0-1-0.448-1-1s0.448-1 1-1h14c0.552 0 1 0.448 1 1s-0.448 1-1 1z\"></path>\n",
              "<path d=\"M23 22h-14c-0.552 0-1-0.448-1-1s0.448-1 1-1h14c0.552 0 1 0.448 1 1s-0.448 1-1 1z\"></path>\n",
              "<path d=\"M23 18h-14c-0.552 0-1-0.448-1-1s0.448-1 1-1h14c0.552 0 1 0.448 1 1s-0.448 1-1 1z\"></path>\n",
              "</symbol>\n",
              "</defs>\n",
              "</svg>\n",
              "<style>/* CSS stylesheet for displaying xarray objects in jupyterlab.\n",
              " *\n",
              " */\n",
              "\n",
              ":root {\n",
              "  --xr-font-color0: var(--jp-content-font-color0, rgba(0, 0, 0, 1));\n",
              "  --xr-font-color2: var(--jp-content-font-color2, rgba(0, 0, 0, 0.54));\n",
              "  --xr-font-color3: var(--jp-content-font-color3, rgba(0, 0, 0, 0.38));\n",
              "  --xr-border-color: var(--jp-border-color2, #e0e0e0);\n",
              "  --xr-disabled-color: var(--jp-layout-color3, #bdbdbd);\n",
              "  --xr-background-color: var(--jp-layout-color0, white);\n",
              "  --xr-background-color-row-even: var(--jp-layout-color1, white);\n",
              "  --xr-background-color-row-odd: var(--jp-layout-color2, #eeeeee);\n",
              "}\n",
              "\n",
              "html[theme=\"dark\"],\n",
              "html[data-theme=\"dark\"],\n",
              "body[data-theme=\"dark\"],\n",
              "body.vscode-dark {\n",
              "  --xr-font-color0: rgba(255, 255, 255, 1);\n",
              "  --xr-font-color2: rgba(255, 255, 255, 0.54);\n",
              "  --xr-font-color3: rgba(255, 255, 255, 0.38);\n",
              "  --xr-border-color: #1f1f1f;\n",
              "  --xr-disabled-color: #515151;\n",
              "  --xr-background-color: #111111;\n",
              "  --xr-background-color-row-even: #111111;\n",
              "  --xr-background-color-row-odd: #313131;\n",
              "}\n",
              "\n",
              ".xr-wrap {\n",
              "  display: block !important;\n",
              "  min-width: 300px;\n",
              "  max-width: 700px;\n",
              "}\n",
              "\n",
              ".xr-text-repr-fallback {\n",
              "  /* fallback to plain text repr when CSS is not injected (untrusted notebook) */\n",
              "  display: none;\n",
              "}\n",
              "\n",
              ".xr-header {\n",
              "  padding-top: 6px;\n",
              "  padding-bottom: 6px;\n",
              "  margin-bottom: 4px;\n",
              "  border-bottom: solid 1px var(--xr-border-color);\n",
              "}\n",
              "\n",
              ".xr-header > div,\n",
              ".xr-header > ul {\n",
              "  display: inline;\n",
              "  margin-top: 0;\n",
              "  margin-bottom: 0;\n",
              "}\n",
              "\n",
              ".xr-obj-type,\n",
              ".xr-array-name {\n",
              "  margin-left: 2px;\n",
              "  margin-right: 10px;\n",
              "}\n",
              "\n",
              ".xr-obj-type {\n",
              "  color: var(--xr-font-color2);\n",
              "}\n",
              "\n",
              ".xr-sections {\n",
              "  padding-left: 0 !important;\n",
              "  display: grid;\n",
              "  grid-template-columns: 150px auto auto 1fr 0 20px 0 20px;\n",
              "}\n",
              "\n",
              ".xr-section-item {\n",
              "  display: contents;\n",
              "}\n",
              "\n",
              ".xr-section-item input {\n",
              "  display: inline-block;\n",
              "  opacity: 0;\n",
              "  height: 0;\n",
              "}\n",
              "\n",
              ".xr-section-item input + label {\n",
              "  color: var(--xr-disabled-color);\n",
              "}\n",
              "\n",
              ".xr-section-item input:enabled + label {\n",
              "  cursor: pointer;\n",
              "  color: var(--xr-font-color2);\n",
              "}\n",
              "\n",
              ".xr-section-item input:focus + label {\n",
              "  border: 2px solid var(--xr-font-color0);\n",
              "}\n",
              "\n",
              ".xr-section-item input:enabled + label:hover {\n",
              "  color: var(--xr-font-color0);\n",
              "}\n",
              "\n",
              ".xr-section-summary {\n",
              "  grid-column: 1;\n",
              "  color: var(--xr-font-color2);\n",
              "  font-weight: 500;\n",
              "}\n",
              "\n",
              ".xr-section-summary > span {\n",
              "  display: inline-block;\n",
              "  padding-left: 0.5em;\n",
              "}\n",
              "\n",
              ".xr-section-summary-in:disabled + label {\n",
              "  color: var(--xr-font-color2);\n",
              "}\n",
              "\n",
              ".xr-section-summary-in + label:before {\n",
              "  display: inline-block;\n",
              "  content: \"►\";\n",
              "  font-size: 11px;\n",
              "  width: 15px;\n",
              "  text-align: center;\n",
              "}\n",
              "\n",
              ".xr-section-summary-in:disabled + label:before {\n",
              "  color: var(--xr-disabled-color);\n",
              "}\n",
              "\n",
              ".xr-section-summary-in:checked + label:before {\n",
              "  content: \"▼\";\n",
              "}\n",
              "\n",
              ".xr-section-summary-in:checked + label > span {\n",
              "  display: none;\n",
              "}\n",
              "\n",
              ".xr-section-summary,\n",
              ".xr-section-inline-details {\n",
              "  padding-top: 4px;\n",
              "  padding-bottom: 4px;\n",
              "}\n",
              "\n",
              ".xr-section-inline-details {\n",
              "  grid-column: 2 / -1;\n",
              "}\n",
              "\n",
              ".xr-section-details {\n",
              "  display: none;\n",
              "  grid-column: 1 / -1;\n",
              "  margin-bottom: 5px;\n",
              "}\n",
              "\n",
              ".xr-section-summary-in:checked ~ .xr-section-details {\n",
              "  display: contents;\n",
              "}\n",
              "\n",
              ".xr-array-wrap {\n",
              "  grid-column: 1 / -1;\n",
              "  display: grid;\n",
              "  grid-template-columns: 20px auto;\n",
              "}\n",
              "\n",
              ".xr-array-wrap > label {\n",
              "  grid-column: 1;\n",
              "  vertical-align: top;\n",
              "}\n",
              "\n",
              ".xr-preview {\n",
              "  color: var(--xr-font-color3);\n",
              "}\n",
              "\n",
              ".xr-array-preview,\n",
              ".xr-array-data {\n",
              "  padding: 0 5px !important;\n",
              "  grid-column: 2;\n",
              "}\n",
              "\n",
              ".xr-array-data,\n",
              ".xr-array-in:checked ~ .xr-array-preview {\n",
              "  display: none;\n",
              "}\n",
              "\n",
              ".xr-array-in:checked ~ .xr-array-data,\n",
              ".xr-array-preview {\n",
              "  display: inline-block;\n",
              "}\n",
              "\n",
              ".xr-dim-list {\n",
              "  display: inline-block !important;\n",
              "  list-style: none;\n",
              "  padding: 0 !important;\n",
              "  margin: 0;\n",
              "}\n",
              "\n",
              ".xr-dim-list li {\n",
              "  display: inline-block;\n",
              "  padding: 0;\n",
              "  margin: 0;\n",
              "}\n",
              "\n",
              ".xr-dim-list:before {\n",
              "  content: \"(\";\n",
              "}\n",
              "\n",
              ".xr-dim-list:after {\n",
              "  content: \")\";\n",
              "}\n",
              "\n",
              ".xr-dim-list li:not(:last-child):after {\n",
              "  content: \",\";\n",
              "  padding-right: 5px;\n",
              "}\n",
              "\n",
              ".xr-has-index {\n",
              "  font-weight: bold;\n",
              "}\n",
              "\n",
              ".xr-var-list,\n",
              ".xr-var-item {\n",
              "  display: contents;\n",
              "}\n",
              "\n",
              ".xr-var-item > div,\n",
              ".xr-var-item label,\n",
              ".xr-var-item > .xr-var-name span {\n",
              "  background-color: var(--xr-background-color-row-even);\n",
              "  margin-bottom: 0;\n",
              "}\n",
              "\n",
              ".xr-var-item > .xr-var-name:hover span {\n",
              "  padding-right: 5px;\n",
              "}\n",
              "\n",
              ".xr-var-list > li:nth-child(odd) > div,\n",
              ".xr-var-list > li:nth-child(odd) > label,\n",
              ".xr-var-list > li:nth-child(odd) > .xr-var-name span {\n",
              "  background-color: var(--xr-background-color-row-odd);\n",
              "}\n",
              "\n",
              ".xr-var-name {\n",
              "  grid-column: 1;\n",
              "}\n",
              "\n",
              ".xr-var-dims {\n",
              "  grid-column: 2;\n",
              "}\n",
              "\n",
              ".xr-var-dtype {\n",
              "  grid-column: 3;\n",
              "  text-align: right;\n",
              "  color: var(--xr-font-color2);\n",
              "}\n",
              "\n",
              ".xr-var-preview {\n",
              "  grid-column: 4;\n",
              "}\n",
              "\n",
              ".xr-index-preview {\n",
              "  grid-column: 2 / 5;\n",
              "  color: var(--xr-font-color2);\n",
              "}\n",
              "\n",
              ".xr-var-name,\n",
              ".xr-var-dims,\n",
              ".xr-var-dtype,\n",
              ".xr-preview,\n",
              ".xr-attrs dt {\n",
              "  white-space: nowrap;\n",
              "  overflow: hidden;\n",
              "  text-overflow: ellipsis;\n",
              "  padding-right: 10px;\n",
              "}\n",
              "\n",
              ".xr-var-name:hover,\n",
              ".xr-var-dims:hover,\n",
              ".xr-var-dtype:hover,\n",
              ".xr-attrs dt:hover {\n",
              "  overflow: visible;\n",
              "  width: auto;\n",
              "  z-index: 1;\n",
              "}\n",
              "\n",
              ".xr-var-attrs,\n",
              ".xr-var-data,\n",
              ".xr-index-data {\n",
              "  display: none;\n",
              "  background-color: var(--xr-background-color) !important;\n",
              "  padding-bottom: 5px !important;\n",
              "}\n",
              "\n",
              ".xr-var-attrs-in:checked ~ .xr-var-attrs,\n",
              ".xr-var-data-in:checked ~ .xr-var-data,\n",
              ".xr-index-data-in:checked ~ .xr-index-data {\n",
              "  display: block;\n",
              "}\n",
              "\n",
              ".xr-var-data > table {\n",
              "  float: right;\n",
              "}\n",
              "\n",
              ".xr-var-name span,\n",
              ".xr-var-data,\n",
              ".xr-index-name div,\n",
              ".xr-index-data,\n",
              ".xr-attrs {\n",
              "  padding-left: 25px !important;\n",
              "}\n",
              "\n",
              ".xr-attrs,\n",
              ".xr-var-attrs,\n",
              ".xr-var-data,\n",
              ".xr-index-data {\n",
              "  grid-column: 1 / -1;\n",
              "}\n",
              "\n",
              "dl.xr-attrs {\n",
              "  padding: 0;\n",
              "  margin: 0;\n",
              "  display: grid;\n",
              "  grid-template-columns: 125px auto;\n",
              "}\n",
              "\n",
              ".xr-attrs dt,\n",
              ".xr-attrs dd {\n",
              "  padding: 0;\n",
              "  margin: 0;\n",
              "  float: left;\n",
              "  padding-right: 10px;\n",
              "  width: auto;\n",
              "}\n",
              "\n",
              ".xr-attrs dt {\n",
              "  font-weight: normal;\n",
              "  grid-column: 1;\n",
              "}\n",
              "\n",
              ".xr-attrs dt:hover span {\n",
              "  display: inline-block;\n",
              "  background: var(--xr-background-color);\n",
              "  padding-right: 10px;\n",
              "}\n",
              "\n",
              ".xr-attrs dd {\n",
              "  grid-column: 2;\n",
              "  white-space: pre-wrap;\n",
              "  word-break: break-all;\n",
              "}\n",
              "\n",
              ".xr-icon-database,\n",
              ".xr-icon-file-text2,\n",
              ".xr-no-icon {\n",
              "  display: inline-block;\n",
              "  vertical-align: middle;\n",
              "  width: 1em;\n",
              "  height: 1.5em !important;\n",
              "  stroke-width: 0;\n",
              "  stroke: currentColor;\n",
              "  fill: currentColor;\n",
              "}\n",
              "</style><pre class='xr-text-repr-fallback'>&lt;xarray.DataArray &#x27;precipitation&#x27; (time: 16100, y: 54, x: 111)&gt; Size: 386MB\n",
              "array([[[nan, nan, nan, ..., nan, nan, nan],\n",
              "        [nan, nan, nan, ..., nan, nan, nan],\n",
              "        [nan, nan, nan, ..., nan, nan, nan],\n",
              "        ...,\n",
              "        [nan, nan, nan, ..., nan, nan, nan],\n",
              "        [nan, nan, nan, ..., nan, nan, nan],\n",
              "        [nan, nan, nan, ..., nan, nan, nan]],\n",
              "\n",
              "       [[nan, nan, nan, ..., nan, nan, nan],\n",
              "        [nan, nan, nan, ..., nan, nan, nan],\n",
              "        [nan, nan, nan, ..., nan, nan, nan],\n",
              "        ...,\n",
              "        [nan, nan, nan, ..., nan, nan, nan],\n",
              "        [nan, nan, nan, ..., nan, nan, nan],\n",
              "        [nan, nan, nan, ..., nan, nan, nan]],\n",
              "\n",
              "       [[nan, nan, nan, ..., nan, nan, nan],\n",
              "        [nan, nan, nan, ..., nan, nan, nan],\n",
              "        [nan, nan, nan, ..., nan, nan, nan],\n",
              "        ...,\n",
              "...\n",
              "        ...,\n",
              "        [nan, nan, nan, ..., nan, nan, nan],\n",
              "        [nan, nan, nan, ..., nan, nan, nan],\n",
              "        [nan, nan, nan, ..., nan, nan, nan]],\n",
              "\n",
              "       [[nan, nan, nan, ..., nan, nan, nan],\n",
              "        [nan, nan, nan, ..., nan, nan, nan],\n",
              "        [nan, nan, nan, ..., nan, nan, nan],\n",
              "        ...,\n",
              "        [nan, nan, nan, ..., nan, nan, nan],\n",
              "        [nan, nan, nan, ..., nan, nan, nan],\n",
              "        [nan, nan, nan, ..., nan, nan, nan]],\n",
              "\n",
              "       [[nan, nan, nan, ..., nan, nan, nan],\n",
              "        [nan, nan, nan, ..., nan, nan, nan],\n",
              "        [nan, nan, nan, ..., nan, nan, nan],\n",
              "        ...,\n",
              "        [nan, nan, nan, ..., nan, nan, nan],\n",
              "        [nan, nan, nan, ..., nan, nan, nan],\n",
              "        [nan, nan, nan, ..., nan, nan, nan]]], dtype=float32)\n",
              "Coordinates:\n",
              "  * time         (time) object 129kB &#x27;1981-01-01&#x27; &#x27;1981-01-02&#x27; ... &#x27;2025-05-31&#x27;\n",
              "  * x            (x) float64 888B 14.48 14.53 14.58 14.63 ... 19.88 19.93 19.98\n",
              "  * y            (y) float64 432B -23.18 -23.23 -23.28 ... -25.73 -25.78 -25.83\n",
              "    spatial_ref  int64 8B 0\n",
              "Attributes:\n",
              "    TIFFTAG_DOCUMENTNAME:      /home/sandbox/chirps/v2.0/daily_downscaled_by_...\n",
              "    TIFFTAG_IMAGEDESCRIPTION:  IDL TIFF file\n",
              "    TIFFTAG_SOFTWARE:          IDL 8.5, Exelis Visual Information Solutions, ...\n",
              "    TIFFTAG_DATETIME:          2015:09:01 17:10:36\n",
              "    TIFFTAG_XRESOLUTION:       100\n",
              "    TIFFTAG_YRESOLUTION:       100\n",
              "    TIFFTAG_RESOLUTIONUNIT:    2 (pixels/inch)\n",
              "    OVR_RESAMPLING_ALG:        NEAREST\n",
              "    AREA_OR_POINT:             Area\n",
              "    scale_factor:              1.0\n",
              "    add_offset:                0.0</pre><div class='xr-wrap' style='display:none'><div class='xr-header'><div class='xr-obj-type'>xarray.DataArray</div><div class='xr-array-name'>'precipitation'</div><ul class='xr-dim-list'><li><span class='xr-has-index'>time</span>: 16100</li><li><span class='xr-has-index'>y</span>: 54</li><li><span class='xr-has-index'>x</span>: 111</li></ul></div><ul class='xr-sections'><li class='xr-section-item'><div class='xr-array-wrap'><input id='section-2169dfb6-c83a-4f65-964d-7dd01262e04e' class='xr-array-in' type='checkbox' checked><label for='section-2169dfb6-c83a-4f65-964d-7dd01262e04e' title='Show/hide data repr'><svg class='icon xr-icon-database'><use xlink:href='#icon-database'></use></svg></label><div class='xr-array-preview xr-preview'><span>nan nan nan nan nan nan nan nan ... nan nan nan nan nan nan nan nan</span></div><div class='xr-array-data'><pre>array([[[nan, nan, nan, ..., nan, nan, nan],\n",
              "        [nan, nan, nan, ..., nan, nan, nan],\n",
              "        [nan, nan, nan, ..., nan, nan, nan],\n",
              "        ...,\n",
              "        [nan, nan, nan, ..., nan, nan, nan],\n",
              "        [nan, nan, nan, ..., nan, nan, nan],\n",
              "        [nan, nan, nan, ..., nan, nan, nan]],\n",
              "\n",
              "       [[nan, nan, nan, ..., nan, nan, nan],\n",
              "        [nan, nan, nan, ..., nan, nan, nan],\n",
              "        [nan, nan, nan, ..., nan, nan, nan],\n",
              "        ...,\n",
              "        [nan, nan, nan, ..., nan, nan, nan],\n",
              "        [nan, nan, nan, ..., nan, nan, nan],\n",
              "        [nan, nan, nan, ..., nan, nan, nan]],\n",
              "\n",
              "       [[nan, nan, nan, ..., nan, nan, nan],\n",
              "        [nan, nan, nan, ..., nan, nan, nan],\n",
              "        [nan, nan, nan, ..., nan, nan, nan],\n",
              "        ...,\n",
              "...\n",
              "        ...,\n",
              "        [nan, nan, nan, ..., nan, nan, nan],\n",
              "        [nan, nan, nan, ..., nan, nan, nan],\n",
              "        [nan, nan, nan, ..., nan, nan, nan]],\n",
              "\n",
              "       [[nan, nan, nan, ..., nan, nan, nan],\n",
              "        [nan, nan, nan, ..., nan, nan, nan],\n",
              "        [nan, nan, nan, ..., nan, nan, nan],\n",
              "        ...,\n",
              "        [nan, nan, nan, ..., nan, nan, nan],\n",
              "        [nan, nan, nan, ..., nan, nan, nan],\n",
              "        [nan, nan, nan, ..., nan, nan, nan]],\n",
              "\n",
              "       [[nan, nan, nan, ..., nan, nan, nan],\n",
              "        [nan, nan, nan, ..., nan, nan, nan],\n",
              "        [nan, nan, nan, ..., nan, nan, nan],\n",
              "        ...,\n",
              "        [nan, nan, nan, ..., nan, nan, nan],\n",
              "        [nan, nan, nan, ..., nan, nan, nan],\n",
              "        [nan, nan, nan, ..., nan, nan, nan]]], dtype=float32)</pre></div></div></li><li class='xr-section-item'><input id='section-48c74db9-2d0c-41cc-a319-395c2b8c82bf' class='xr-section-summary-in' type='checkbox'  checked><label for='section-48c74db9-2d0c-41cc-a319-395c2b8c82bf' class='xr-section-summary' >Coordinates: <span>(4)</span></label><div class='xr-section-inline-details'></div><div class='xr-section-details'><ul class='xr-var-list'><li class='xr-var-item'><div class='xr-var-name'><span class='xr-has-index'>time</span></div><div class='xr-var-dims'>(time)</div><div class='xr-var-dtype'>object</div><div class='xr-var-preview xr-preview'>&#x27;1981-01-01&#x27; ... &#x27;2025-05-31&#x27;</div><input id='attrs-11a3e785-e030-44ea-88ea-f8ade84ae373' class='xr-var-attrs-in' type='checkbox' disabled><label for='attrs-11a3e785-e030-44ea-88ea-f8ade84ae373' title='Show/Hide attributes'><svg class='icon xr-icon-file-text2'><use xlink:href='#icon-file-text2'></use></svg></label><input id='data-3e21c872-0ec6-44c4-81fc-c93fe9724e47' class='xr-var-data-in' type='checkbox'><label for='data-3e21c872-0ec6-44c4-81fc-c93fe9724e47' title='Show/Hide data repr'><svg class='icon xr-icon-database'><use xlink:href='#icon-database'></use></svg></label><div class='xr-var-attrs'><dl class='xr-attrs'></dl></div><div class='xr-var-data'><pre>array([&#x27;1981-01-01&#x27;, &#x27;1981-01-02&#x27;, &#x27;1981-01-03&#x27;, ..., &#x27;2025-05-29&#x27;,\n",
              "       &#x27;2025-05-30&#x27;, &#x27;2025-05-31&#x27;], dtype=object)</pre></div></li><li class='xr-var-item'><div class='xr-var-name'><span class='xr-has-index'>x</span></div><div class='xr-var-dims'>(x)</div><div class='xr-var-dtype'>float64</div><div class='xr-var-preview xr-preview'>14.48 14.53 14.58 ... 19.93 19.98</div><input id='attrs-37ee2a3a-d02d-47d5-bff5-4bbc53ff313b' class='xr-var-attrs-in' type='checkbox' ><label for='attrs-37ee2a3a-d02d-47d5-bff5-4bbc53ff313b' title='Show/Hide attributes'><svg class='icon xr-icon-file-text2'><use xlink:href='#icon-file-text2'></use></svg></label><input id='data-c62121ea-01ca-4c86-8779-298094df24b3' class='xr-var-data-in' type='checkbox'><label for='data-c62121ea-01ca-4c86-8779-298094df24b3' title='Show/Hide data repr'><svg class='icon xr-icon-database'><use xlink:href='#icon-database'></use></svg></label><div class='xr-var-attrs'><dl class='xr-attrs'><dt><span>axis :</span></dt><dd>X</dd><dt><span>long_name :</span></dt><dd>longitude</dd><dt><span>standard_name :</span></dt><dd>longitude</dd><dt><span>units :</span></dt><dd>degrees_east</dd></dl></div><div class='xr-var-data'><pre>array([14.475001, 14.525001, 14.575001, 14.625001, 14.675001, 14.725001,\n",
              "       14.775001, 14.825001, 14.875001, 14.925001, 14.975001, 15.025001,\n",
              "       15.075001, 15.125001, 15.175001, 15.225001, 15.275001, 15.325001,\n",
              "       15.375001, 15.425001, 15.475001, 15.525001, 15.575001, 15.625001,\n",
              "       15.675001, 15.725001, 15.775001, 15.825001, 15.875001, 15.925001,\n",
              "       15.975001, 16.025001, 16.075001, 16.125001, 16.175001, 16.225001,\n",
              "       16.275001, 16.325001, 16.375001, 16.425001, 16.475001, 16.525001,\n",
              "       16.575001, 16.625001, 16.675001, 16.725001, 16.775001, 16.825001,\n",
              "       16.875001, 16.925001, 16.975001, 17.025001, 17.075001, 17.125001,\n",
              "       17.175001, 17.225001, 17.275001, 17.325001, 17.375001, 17.425001,\n",
              "       17.475001, 17.525001, 17.575001, 17.625001, 17.675001, 17.725001,\n",
              "       17.775001, 17.825001, 17.875001, 17.925001, 17.975001, 18.025001,\n",
              "       18.075001, 18.125001, 18.175001, 18.225001, 18.275001, 18.325001,\n",
              "       18.375001, 18.425001, 18.475001, 18.525001, 18.575001, 18.625001,\n",
              "       18.675001, 18.725001, 18.775001, 18.825001, 18.875001, 18.925001,\n",
              "       18.975001, 19.025001, 19.075001, 19.125001, 19.175001, 19.225001,\n",
              "       19.275001, 19.325001, 19.375001, 19.425001, 19.475001, 19.525001,\n",
              "       19.575001, 19.625001, 19.675001, 19.725001, 19.775001, 19.825001,\n",
              "       19.875001, 19.925001, 19.975001])</pre></div></li><li class='xr-var-item'><div class='xr-var-name'><span class='xr-has-index'>y</span></div><div class='xr-var-dims'>(y)</div><div class='xr-var-dtype'>float64</div><div class='xr-var-preview xr-preview'>-23.18 -23.23 ... -25.78 -25.83</div><input id='attrs-6423cf90-8b48-47cb-9639-8d42faaed7dc' class='xr-var-attrs-in' type='checkbox' ><label for='attrs-6423cf90-8b48-47cb-9639-8d42faaed7dc' title='Show/Hide attributes'><svg class='icon xr-icon-file-text2'><use xlink:href='#icon-file-text2'></use></svg></label><input id='data-9c831a09-ad08-4118-a967-f6b18dfb73ce' class='xr-var-data-in' type='checkbox'><label for='data-9c831a09-ad08-4118-a967-f6b18dfb73ce' title='Show/Hide data repr'><svg class='icon xr-icon-database'><use xlink:href='#icon-database'></use></svg></label><div class='xr-var-attrs'><dl class='xr-attrs'><dt><span>axis :</span></dt><dd>Y</dd><dt><span>long_name :</span></dt><dd>latitude</dd><dt><span>standard_name :</span></dt><dd>latitude</dd><dt><span>units :</span></dt><dd>degrees_north</dd></dl></div><div class='xr-var-data'><pre>array([-23.175001, -23.225001, -23.275001, -23.325001, -23.375001, -23.425001,\n",
              "       -23.475001, -23.525001, -23.575001, -23.625001, -23.675001, -23.725001,\n",
              "       -23.775001, -23.825001, -23.875001, -23.925001, -23.975001, -24.025001,\n",
              "       -24.075001, -24.125001, -24.175001, -24.225001, -24.275001, -24.325001,\n",
              "       -24.375001, -24.425001, -24.475001, -24.525001, -24.575001, -24.625001,\n",
              "       -24.675001, -24.725001, -24.775001, -24.825001, -24.875001, -24.925001,\n",
              "       -24.975001, -25.025001, -25.075001, -25.125001, -25.175001, -25.225001,\n",
              "       -25.275001, -25.325001, -25.375001, -25.425001, -25.475001, -25.525001,\n",
              "       -25.575001, -25.625001, -25.675001, -25.725001, -25.775001, -25.825001])</pre></div></li><li class='xr-var-item'><div class='xr-var-name'><span>spatial_ref</span></div><div class='xr-var-dims'>()</div><div class='xr-var-dtype'>int64</div><div class='xr-var-preview xr-preview'>0</div><input id='attrs-f2921195-8de7-4d1d-a64a-7f89cd5aec54' class='xr-var-attrs-in' type='checkbox' ><label for='attrs-f2921195-8de7-4d1d-a64a-7f89cd5aec54' title='Show/Hide attributes'><svg class='icon xr-icon-file-text2'><use xlink:href='#icon-file-text2'></use></svg></label><input id='data-64c2f116-8a42-47b9-847a-6bcfb80e592c' class='xr-var-data-in' type='checkbox'><label for='data-64c2f116-8a42-47b9-847a-6bcfb80e592c' title='Show/Hide data repr'><svg class='icon xr-icon-database'><use xlink:href='#icon-database'></use></svg></label><div class='xr-var-attrs'><dl class='xr-attrs'><dt><span>crs_wkt :</span></dt><dd>GEOGCS[&quot;WGS 84&quot;,DATUM[&quot;WGS_1984&quot;,SPHEROID[&quot;WGS 84&quot;,6378137,298.257223563,AUTHORITY[&quot;EPSG&quot;,&quot;7030&quot;]],AUTHORITY[&quot;EPSG&quot;,&quot;6326&quot;]],PRIMEM[&quot;Greenwich&quot;,0,AUTHORITY[&quot;EPSG&quot;,&quot;8901&quot;]],UNIT[&quot;degree&quot;,0.0174532925199433,AUTHORITY[&quot;EPSG&quot;,&quot;9122&quot;]],AXIS[&quot;Latitude&quot;,NORTH],AXIS[&quot;Longitude&quot;,EAST],AUTHORITY[&quot;EPSG&quot;,&quot;4326&quot;]]</dd><dt><span>semi_major_axis :</span></dt><dd>6378137.0</dd><dt><span>semi_minor_axis :</span></dt><dd>6356752.314245179</dd><dt><span>inverse_flattening :</span></dt><dd>298.257223563</dd><dt><span>reference_ellipsoid_name :</span></dt><dd>WGS 84</dd><dt><span>longitude_of_prime_meridian :</span></dt><dd>0.0</dd><dt><span>prime_meridian_name :</span></dt><dd>Greenwich</dd><dt><span>geographic_crs_name :</span></dt><dd>WGS 84</dd><dt><span>horizontal_datum_name :</span></dt><dd>World Geodetic System 1984</dd><dt><span>grid_mapping_name :</span></dt><dd>latitude_longitude</dd><dt><span>spatial_ref :</span></dt><dd>GEOGCS[&quot;WGS 84&quot;,DATUM[&quot;WGS_1984&quot;,SPHEROID[&quot;WGS 84&quot;,6378137,298.257223563,AUTHORITY[&quot;EPSG&quot;,&quot;7030&quot;]],AUTHORITY[&quot;EPSG&quot;,&quot;6326&quot;]],PRIMEM[&quot;Greenwich&quot;,0,AUTHORITY[&quot;EPSG&quot;,&quot;8901&quot;]],UNIT[&quot;degree&quot;,0.0174532925199433,AUTHORITY[&quot;EPSG&quot;,&quot;9122&quot;]],AXIS[&quot;Latitude&quot;,NORTH],AXIS[&quot;Longitude&quot;,EAST],AUTHORITY[&quot;EPSG&quot;,&quot;4326&quot;]]</dd><dt><span>GeoTransform :</span></dt><dd>14.450000513345003 0.05000000074505806 0.0 -23.15000094100833 0.0 -0.05000000074505806</dd></dl></div><div class='xr-var-data'><pre>array(0)</pre></div></li></ul></div></li><li class='xr-section-item'><input id='section-de9edc1b-25e6-4564-8f6b-69a9bc9112a8' class='xr-section-summary-in' type='checkbox'  ><label for='section-de9edc1b-25e6-4564-8f6b-69a9bc9112a8' class='xr-section-summary' >Indexes: <span>(3)</span></label><div class='xr-section-inline-details'></div><div class='xr-section-details'><ul class='xr-var-list'><li class='xr-var-item'><div class='xr-index-name'><div>time</div></div><div class='xr-index-preview'>PandasIndex</div><input type='checkbox' disabled/><label></label><input id='index-ded775a2-6277-4e82-b14f-75509dfc3264' class='xr-index-data-in' type='checkbox'/><label for='index-ded775a2-6277-4e82-b14f-75509dfc3264' title='Show/Hide index repr'><svg class='icon xr-icon-database'><use xlink:href='#icon-database'></use></svg></label><div class='xr-index-data'><pre>PandasIndex(Index([&#x27;1981-01-01&#x27;, &#x27;1981-01-02&#x27;, &#x27;1981-01-03&#x27;, &#x27;1981-01-04&#x27;, &#x27;1981-01-05&#x27;,\n",
              "       &#x27;1981-01-06&#x27;, &#x27;1981-01-07&#x27;, &#x27;1981-01-08&#x27;, &#x27;1981-01-09&#x27;, &#x27;1981-01-10&#x27;,\n",
              "       ...\n",
              "       &#x27;2025-05-22&#x27;, &#x27;2025-05-23&#x27;, &#x27;2025-05-24&#x27;, &#x27;2025-05-25&#x27;, &#x27;2025-05-26&#x27;,\n",
              "       &#x27;2025-05-27&#x27;, &#x27;2025-05-28&#x27;, &#x27;2025-05-29&#x27;, &#x27;2025-05-30&#x27;, &#x27;2025-05-31&#x27;],\n",
              "      dtype=&#x27;object&#x27;, name=&#x27;time&#x27;, length=16100))</pre></div></li><li class='xr-var-item'><div class='xr-index-name'><div>x</div></div><div class='xr-index-preview'>PandasIndex</div><input type='checkbox' disabled/><label></label><input id='index-22d27c82-c994-4f37-bbf6-1d61135046be' class='xr-index-data-in' type='checkbox'/><label for='index-22d27c82-c994-4f37-bbf6-1d61135046be' title='Show/Hide index repr'><svg class='icon xr-icon-database'><use xlink:href='#icon-database'></use></svg></label><div class='xr-index-data'><pre>PandasIndex(Index([14.475000513717532,  14.52500051446259, 14.575000515207648,\n",
              "       14.625000515952706, 14.675000516697764, 14.725000517442822,\n",
              "        14.77500051818788, 14.825000518932939, 14.875000519677997,\n",
              "       14.925000520423055,\n",
              "       ...\n",
              "       19.525000588968396, 19.575000589713454, 19.625000590458512,\n",
              "        19.67500059120357,  19.72500059194863, 19.775000592693686,\n",
              "       19.825000593438745, 19.875000594183803,  19.92500059492886,\n",
              "        19.97500059567392],\n",
              "      dtype=&#x27;float64&#x27;, name=&#x27;x&#x27;, length=111))</pre></div></li><li class='xr-var-item'><div class='xr-index-name'><div>y</div></div><div class='xr-index-preview'>PandasIndex</div><input type='checkbox' disabled/><label></label><input id='index-2bf40a56-f3f1-4401-80a2-1a2a5f525a23' class='xr-index-data-in' type='checkbox'/><label for='index-2bf40a56-f3f1-4401-80a2-1a2a5f525a23' title='Show/Hide index repr'><svg class='icon xr-icon-database'><use xlink:href='#icon-database'></use></svg></label><div class='xr-index-data'><pre>PandasIndex(Index([ -23.17500094138086, -23.225000942125916, -23.275000942870975,\n",
              "       -23.325000943616033,  -23.37500094436109,  -23.42500094510615,\n",
              "       -23.475000945851207, -23.525000946596265, -23.575000947341323,\n",
              "        -23.62500094808638,  -23.67500094883144, -23.725000949576497,\n",
              "       -23.775000950321555, -23.825000951066613,  -23.87500095181167,\n",
              "        -23.92500095255673, -23.975000953301787, -24.025000954046845,\n",
              "       -24.075000954791903,  -24.12500095553696,  -24.17500095628202,\n",
              "       -24.225000957027078, -24.275000957772136, -24.325000958517194,\n",
              "       -24.375000959262252,  -24.42500096000731, -24.475000960752368,\n",
              "       -24.525000961497426, -24.575000962242484, -24.625000962987542,\n",
              "         -24.6750009637326,  -24.72500096447766, -24.775000965222716,\n",
              "       -24.825000965967774, -24.875000966712832,  -24.92500096745789,\n",
              "        -24.97500096820295, -25.025000968948007, -25.075000969693065,\n",
              "       -25.125000970438123,  -25.17500097118318,  -25.22500097192824,\n",
              "       -25.275000972673297, -25.325000973418355, -25.375000974163413,\n",
              "        -25.42500097490847,  -25.47500097565353, -25.525000976398587,\n",
              "       -25.575000977143645, -25.625000977888703,  -25.67500097863376,\n",
              "        -25.72500097937882, -25.775000980123878, -25.825000980868936],\n",
              "      dtype=&#x27;float64&#x27;, name=&#x27;y&#x27;))</pre></div></li></ul></div></li><li class='xr-section-item'><input id='section-2f6eb5d4-aa05-41c0-82a7-71349926f0f0' class='xr-section-summary-in' type='checkbox'  ><label for='section-2f6eb5d4-aa05-41c0-82a7-71349926f0f0' class='xr-section-summary' >Attributes: <span>(11)</span></label><div class='xr-section-inline-details'></div><div class='xr-section-details'><dl class='xr-attrs'><dt><span>TIFFTAG_DOCUMENTNAME :</span></dt><dd>/home/sandbox/chirps/v2.0/daily_downscaled_by_monthly/africa_full_rescale_again/01mm/1981/chirps-v2.0.1981.01.01.tif</dd><dt><span>TIFFTAG_IMAGEDESCRIPTION :</span></dt><dd>IDL TIFF file</dd><dt><span>TIFFTAG_SOFTWARE :</span></dt><dd>IDL 8.5, Exelis Visual Information Solutions, Inc., a subsidiary of Harris Corporation.</dd><dt><span>TIFFTAG_DATETIME :</span></dt><dd>2015:09:01 17:10:36</dd><dt><span>TIFFTAG_XRESOLUTION :</span></dt><dd>100</dd><dt><span>TIFFTAG_YRESOLUTION :</span></dt><dd>100</dd><dt><span>TIFFTAG_RESOLUTIONUNIT :</span></dt><dd>2 (pixels/inch)</dd><dt><span>OVR_RESAMPLING_ALG :</span></dt><dd>NEAREST</dd><dt><span>AREA_OR_POINT :</span></dt><dd>Area</dd><dt><span>scale_factor :</span></dt><dd>1.0</dd><dt><span>add_offset :</span></dt><dd>0.0</dd></dl></div></li></ul></div></div>"
            ],
            "text/plain": [
              "<xarray.DataArray 'precipitation' (time: 16100, y: 54, x: 111)> Size: 386MB\n",
              "array([[[nan, nan, nan, ..., nan, nan, nan],\n",
              "        [nan, nan, nan, ..., nan, nan, nan],\n",
              "        [nan, nan, nan, ..., nan, nan, nan],\n",
              "        ...,\n",
              "        [nan, nan, nan, ..., nan, nan, nan],\n",
              "        [nan, nan, nan, ..., nan, nan, nan],\n",
              "        [nan, nan, nan, ..., nan, nan, nan]],\n",
              "\n",
              "       [[nan, nan, nan, ..., nan, nan, nan],\n",
              "        [nan, nan, nan, ..., nan, nan, nan],\n",
              "        [nan, nan, nan, ..., nan, nan, nan],\n",
              "        ...,\n",
              "        [nan, nan, nan, ..., nan, nan, nan],\n",
              "        [nan, nan, nan, ..., nan, nan, nan],\n",
              "        [nan, nan, nan, ..., nan, nan, nan]],\n",
              "\n",
              "       [[nan, nan, nan, ..., nan, nan, nan],\n",
              "        [nan, nan, nan, ..., nan, nan, nan],\n",
              "        [nan, nan, nan, ..., nan, nan, nan],\n",
              "        ...,\n",
              "...\n",
              "        ...,\n",
              "        [nan, nan, nan, ..., nan, nan, nan],\n",
              "        [nan, nan, nan, ..., nan, nan, nan],\n",
              "        [nan, nan, nan, ..., nan, nan, nan]],\n",
              "\n",
              "       [[nan, nan, nan, ..., nan, nan, nan],\n",
              "        [nan, nan, nan, ..., nan, nan, nan],\n",
              "        [nan, nan, nan, ..., nan, nan, nan],\n",
              "        ...,\n",
              "        [nan, nan, nan, ..., nan, nan, nan],\n",
              "        [nan, nan, nan, ..., nan, nan, nan],\n",
              "        [nan, nan, nan, ..., nan, nan, nan]],\n",
              "\n",
              "       [[nan, nan, nan, ..., nan, nan, nan],\n",
              "        [nan, nan, nan, ..., nan, nan, nan],\n",
              "        [nan, nan, nan, ..., nan, nan, nan],\n",
              "        ...,\n",
              "        [nan, nan, nan, ..., nan, nan, nan],\n",
              "        [nan, nan, nan, ..., nan, nan, nan],\n",
              "        [nan, nan, nan, ..., nan, nan, nan]]], dtype=float32)\n",
              "Coordinates:\n",
              "  * time         (time) object 129kB '1981-01-01' '1981-01-02' ... '2025-05-31'\n",
              "  * x            (x) float64 888B 14.48 14.53 14.58 14.63 ... 19.88 19.93 19.98\n",
              "  * y            (y) float64 432B -23.18 -23.23 -23.28 ... -25.73 -25.78 -25.83\n",
              "    spatial_ref  int64 8B 0\n",
              "Attributes:\n",
              "    TIFFTAG_DOCUMENTNAME:      /home/sandbox/chirps/v2.0/daily_downscaled_by_...\n",
              "    TIFFTAG_IMAGEDESCRIPTION:  IDL TIFF file\n",
              "    TIFFTAG_SOFTWARE:          IDL 8.5, Exelis Visual Information Solutions, ...\n",
              "    TIFFTAG_DATETIME:          2015:09:01 17:10:36\n",
              "    TIFFTAG_XRESOLUTION:       100\n",
              "    TIFFTAG_YRESOLUTION:       100\n",
              "    TIFFTAG_RESOLUTIONUNIT:    2 (pixels/inch)\n",
              "    OVR_RESAMPLING_ALG:        NEAREST\n",
              "    AREA_OR_POINT:             Area\n",
              "    scale_factor:              1.0\n",
              "    add_offset:                0.0"
            ]
          },
          "execution_count": 12,
          "metadata": {},
          "output_type": "execute_result"
        }
      ],
      "source": [
        "cube = xr.concat(dataarrays, dim=\"time\")\n",
        "cube\n",
        "# cube['time'] = xr.decode_cf(cube).time\n",
        "# cube.name = 'precipitation'"
      ]
    },
    {
      "cell_type": "code",
      "execution_count": null,
      "metadata": {
        "id": "BrVM5imR91dj"
      },
      "outputs": [],
      "source": [
        "cube['time'] = xr.DataArray(pd.to_datetime(cube.time.values), dims=\"time\")\n"
      ]
    },
    {
      "cell_type": "code",
      "execution_count": null,
      "metadata": {
        "colab": {
          "base_uri": "https://localhost:8080/"
        },
        "id": "1EhLmwpD98qb",
        "outputId": "f064a240-08df-4853-ae00-9bdf2a98c376"
      },
      "outputs": [
        {
          "name": "stdout",
          "output_type": "stream",
          "text": [
            "<xarray.DataArray 'time' (time: 16100)> Size: 129kB\n",
            "array(['1981-01-01T00:00:00.000000000', '1981-01-02T00:00:00.000000000',\n",
            "       '1981-01-03T00:00:00.000000000', ..., '2025-05-29T00:00:00.000000000',\n",
            "       '2025-05-30T00:00:00.000000000', '2025-05-31T00:00:00.000000000'],\n",
            "      dtype='datetime64[ns]')\n",
            "Coordinates:\n",
            "    spatial_ref  int64 8B 0\n",
            "  * time         (time) datetime64[ns] 129kB 1981-01-01 ... 2025-05-31\n"
          ]
        }
      ],
      "source": [
        "print(cube.time)\n"
      ]
    },
    {
      "cell_type": "code",
      "execution_count": null,
      "metadata": {
        "id": "ZFRGHo1Sb6eF"
      },
      "outputs": [],
      "source": [
        "cube.to_zarr(\"chirps_daily_all_years_aoi.zarr\", mode=\"w\")\n"
      ]
    },
    {
      "cell_type": "code",
      "execution_count": null,
      "metadata": {
        "colab": {
          "base_uri": "https://localhost:8080/",
          "height": 507
        },
        "id": "TccNhQWM-B9T",
        "outputId": "fb9c2371-b770-4ecb-e27c-c5a954f65f98"
      },
      "outputs": [
        {
          "data": {
            "image/png": "[encoded data removed]",
            "text/plain": [
              "<Figure size 1400x500 with 1 Axes>"
            ]
          },
          "metadata": {},
          "output_type": "display_data"
        }
      ],
      "source": [
        "annual_total = cube.groupby(\"time.year\").sum(dim=\"time\")\n",
        "annual_mean = annual_total.mean(dim=[\"x\", \"y\"])\n",
        "plt.figure(figsize=(14, 5))\n",
        "annual_mean.to_series().plot.bar(color='dodgerblue')\n",
        "\n",
        "plt.title(\"Total Annual Rainfall Over AOI\")\n",
        "plt.ylabel(\"Rainfall (mm/year)\")\n",
        "plt.xlabel(\"Year\")\n",
        "plt.grid(axis='y', linestyle='--', alpha=0.5)\n",
        "plt.tight_layout()\n",
        "plt.show()\n",
        "plt.show()"
      ]
    },
    {
      "cell_type": "markdown",
      "metadata": {},
      "source": [
        "## Exporting the data"
      ]
    },
    {
      "cell_type": "code",
      "execution_count": null,
      "metadata": {
        "id": "e2vOnn2l-XPT"
      },
      "outputs": [],
      "source": [
        "cube.to_zarr(\"chirps_daily_all_years_aoi.zarr\", mode=\"w\")\n",
        "cube.to_netcdf(\"chirps_daily_all_years_aoi.nc\")\n"
      ]
    },
    {
      "cell_type": "code",
      "execution_count": null,
      "metadata": {
        "colab": {
          "base_uri": "https://localhost:8080/",
          "height": 36
        },
        "id": "SmhaBn6f_P6L",
        "outputId": "bb592216-f4df-467d-e3c3-c72755e9dcbc"
      },
      "outputs": [
        {
          "data": {
            "application/vnd.google.colaboratory.intrinsic+json": {
              "type": "string"
            },
            "text/plain": [
              "'/content/chirps_zarr.zip'"
            ]
          },
          "execution_count": 27,
          "metadata": {},
          "output_type": "execute_result"
        }
      ],
      "source": [
        "\n",
        "shutil.make_archive(\"chirps_zarr\", 'zip', \"chirps_daily_all_years_aoi.zarr\")\n"
      ]
    },
    {
      "cell_type": "code",
      "execution_count": null,
      "metadata": {
        "colab": {
          "base_uri": "https://localhost:8080/",
          "height": 17
        },
        "id": "IIwzxUD4_Vjb",
        "outputId": "97614329-9ac5-4b17-a0d4-4651da043c02"
      },
      "outputs": [
        {
          "data": {
            "application/javascript": "\n    async function download(id, filename, size) {\n      if (!google.colab.kernel.accessAllowed) {\n        return;\n      }\n      const div = document.createElement('div');\n      const label = document.createElement('label');\n      label.textContent = `Downloading \"${filename}\": `;\n      div.appendChild(label);\n      const progress = document.createElement('progress');\n      progress.max = size;\n      div.appendChild(progress);\n      document.body.appendChild(div);\n\n      const buffers = [];\n      let downloaded = 0;\n\n      const channel = await google.colab.kernel.comms.open(id);\n      // Send a message to notify the kernel that we're ready.\n      channel.send({})\n\n      for await (const message of channel.messages) {\n        // Send a message to notify the kernel that we're ready.\n        channel.send({})\n        if (message.buffers) {\n          for (const buffer of message.buffers) {\n            buffers.push(buffer);\n            downloaded += buffer.byteLength;\n            progress.value = downloaded;\n          }\n        }\n      }\n      const blob = new Blob(buffers, {type: 'application/binary'});\n      const a = document.createElement('a');\n      a.href = window.URL.createObjectURL(blob);\n      a.download = filename;\n      div.appendChild(a);\n      a.click();\n      div.remove();\n    }\n  ",
            "text/plain": [
              "<IPython.core.display.Javascript object>"
            ]
          },
          "metadata": {},
          "output_type": "display_data"
        },
        {
          "data": {
            "application/javascript": "download(\"download_8de7bf8a-0a31-491b-b1d3-41bf4d529b0b\", \"chirps_zarr.zip\", 15030151)",
            "text/plain": [
              "<IPython.core.display.Javascript object>"
            ]
          },
          "metadata": {},
          "output_type": "display_data"
        }
      ],
      "source": [
        "from google.colab import files\n",
        "files.download(\"chirps_zarr.zip\")"
      ]
    }
  ],
  "metadata": {
    "colab": {
      "provenance": []
    },
    "kernelspec": {
      "display_name": "DP",
      "language": "python",
      "name": "python3"
    },
    "language_info": {
      "codemirror_mode": {
        "name": "ipython",
        "version": 3
      },
      "file_extension": ".py",
      "mimetype": "text/x-python",
      "name": "python",
      "nbconvert_exporter": "python",
      "pygments_lexer": "ipython3",
      "version": "3.12.11"
    }
  },
  "nbformat": 4,
  "nbformat_minor": 0
}
